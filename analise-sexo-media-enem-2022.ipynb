{
 "cells": [
  {
   "cell_type": "markdown",
   "id": "4bba69e2-3b6a-4463-aa41-5cc62c05d9ae",
   "metadata": {},
   "source": [
    "# Análise dos Microdados Enem 2022"
   ]
  },
  {
   "cell_type": "code",
   "execution_count": 1,
   "id": "974fd9db",
   "metadata": {},
   "outputs": [],
   "source": [
    "import pandas as pd\n",
    "import chardet\n",
    "import numpy as np\n",
    "import seaborn as sns\n",
    "import matplotlib.pyplot as plt"
   ]
  },
  {
   "cell_type": "markdown",
   "id": "5ef27734-b596-4c82-8469-cedc2b151e4a",
   "metadata": {},
   "source": [
    "### Importando Dados"
   ]
  },
  {
   "cell_type": "code",
   "execution_count": 3,
   "id": "a8f9aef0",
   "metadata": {},
   "outputs": [],
   "source": [
    "dados = pd.read_csv('data/MICRODADOS_ENEM_2022.csv', encoding='cp1252', sep=';')"
   ]
  },
  {
   "cell_type": "code",
   "execution_count": 4,
   "id": "97100574",
   "metadata": {},
   "outputs": [
    {
     "data": {
      "text/html": [
       "<div>\n",
       "<style scoped>\n",
       "    .dataframe tbody tr th:only-of-type {\n",
       "        vertical-align: middle;\n",
       "    }\n",
       "\n",
       "    .dataframe tbody tr th {\n",
       "        vertical-align: top;\n",
       "    }\n",
       "\n",
       "    .dataframe thead th {\n",
       "        text-align: right;\n",
       "    }\n",
       "</style>\n",
       "<table border=\"1\" class=\"dataframe\">\n",
       "  <thead>\n",
       "    <tr style=\"text-align: right;\">\n",
       "      <th></th>\n",
       "      <th>NU_INSCRICAO</th>\n",
       "      <th>NU_ANO</th>\n",
       "      <th>TP_FAIXA_ETARIA</th>\n",
       "      <th>TP_SEXO</th>\n",
       "      <th>TP_ESTADO_CIVIL</th>\n",
       "      <th>TP_COR_RACA</th>\n",
       "      <th>TP_NACIONALIDADE</th>\n",
       "      <th>TP_ST_CONCLUSAO</th>\n",
       "      <th>TP_ANO_CONCLUIU</th>\n",
       "      <th>TP_ESCOLA</th>\n",
       "      <th>...</th>\n",
       "      <th>Q016</th>\n",
       "      <th>Q017</th>\n",
       "      <th>Q018</th>\n",
       "      <th>Q019</th>\n",
       "      <th>Q020</th>\n",
       "      <th>Q021</th>\n",
       "      <th>Q022</th>\n",
       "      <th>Q023</th>\n",
       "      <th>Q024</th>\n",
       "      <th>Q025</th>\n",
       "    </tr>\n",
       "  </thead>\n",
       "  <tbody>\n",
       "    <tr>\n",
       "      <th>0</th>\n",
       "      <td>210057943671</td>\n",
       "      <td>2022</td>\n",
       "      <td>14</td>\n",
       "      <td>M</td>\n",
       "      <td>2</td>\n",
       "      <td>2</td>\n",
       "      <td>1</td>\n",
       "      <td>1</td>\n",
       "      <td>2</td>\n",
       "      <td>1</td>\n",
       "      <td>...</td>\n",
       "      <td>B</td>\n",
       "      <td>A</td>\n",
       "      <td>A</td>\n",
       "      <td>A</td>\n",
       "      <td>A</td>\n",
       "      <td>A</td>\n",
       "      <td>A</td>\n",
       "      <td>A</td>\n",
       "      <td>A</td>\n",
       "      <td>A</td>\n",
       "    </tr>\n",
       "    <tr>\n",
       "      <th>1</th>\n",
       "      <td>210057516120</td>\n",
       "      <td>2022</td>\n",
       "      <td>14</td>\n",
       "      <td>M</td>\n",
       "      <td>2</td>\n",
       "      <td>1</td>\n",
       "      <td>1</td>\n",
       "      <td>1</td>\n",
       "      <td>16</td>\n",
       "      <td>1</td>\n",
       "      <td>...</td>\n",
       "      <td>E</td>\n",
       "      <td>E</td>\n",
       "      <td>B</td>\n",
       "      <td>E</td>\n",
       "      <td>B</td>\n",
       "      <td>B</td>\n",
       "      <td>E</td>\n",
       "      <td>B</td>\n",
       "      <td>E</td>\n",
       "      <td>B</td>\n",
       "    </tr>\n",
       "    <tr>\n",
       "      <th>2</th>\n",
       "      <td>210057280536</td>\n",
       "      <td>2022</td>\n",
       "      <td>5</td>\n",
       "      <td>F</td>\n",
       "      <td>1</td>\n",
       "      <td>2</td>\n",
       "      <td>1</td>\n",
       "      <td>1</td>\n",
       "      <td>2</td>\n",
       "      <td>1</td>\n",
       "      <td>...</td>\n",
       "      <td>A</td>\n",
       "      <td>A</td>\n",
       "      <td>A</td>\n",
       "      <td>A</td>\n",
       "      <td>A</td>\n",
       "      <td>A</td>\n",
       "      <td>C</td>\n",
       "      <td>A</td>\n",
       "      <td>A</td>\n",
       "      <td>B</td>\n",
       "    </tr>\n",
       "    <tr>\n",
       "      <th>3</th>\n",
       "      <td>210055724397</td>\n",
       "      <td>2022</td>\n",
       "      <td>6</td>\n",
       "      <td>M</td>\n",
       "      <td>1</td>\n",
       "      <td>3</td>\n",
       "      <td>1</td>\n",
       "      <td>1</td>\n",
       "      <td>2</td>\n",
       "      <td>1</td>\n",
       "      <td>...</td>\n",
       "      <td>B</td>\n",
       "      <td>A</td>\n",
       "      <td>A</td>\n",
       "      <td>C</td>\n",
       "      <td>A</td>\n",
       "      <td>A</td>\n",
       "      <td>C</td>\n",
       "      <td>B</td>\n",
       "      <td>B</td>\n",
       "      <td>B</td>\n",
       "    </tr>\n",
       "  </tbody>\n",
       "</table>\n",
       "<p>4 rows × 76 columns</p>\n",
       "</div>"
      ],
      "text/plain": [
       "   NU_INSCRICAO  NU_ANO  TP_FAIXA_ETARIA TP_SEXO  TP_ESTADO_CIVIL  \\\n",
       "0  210057943671    2022               14       M                2   \n",
       "1  210057516120    2022               14       M                2   \n",
       "2  210057280536    2022                5       F                1   \n",
       "3  210055724397    2022                6       M                1   \n",
       "\n",
       "   TP_COR_RACA  TP_NACIONALIDADE  TP_ST_CONCLUSAO  TP_ANO_CONCLUIU  TP_ESCOLA  \\\n",
       "0            2                 1                1                2          1   \n",
       "1            1                 1                1               16          1   \n",
       "2            2                 1                1                2          1   \n",
       "3            3                 1                1                2          1   \n",
       "\n",
       "   ...  Q016  Q017  Q018 Q019  Q020 Q021  Q022  Q023  Q024  Q025  \n",
       "0  ...     B     A     A    A     A    A     A     A     A     A  \n",
       "1  ...     E     E     B    E     B    B     E     B     E     B  \n",
       "2  ...     A     A     A    A     A    A     C     A     A     B  \n",
       "3  ...     B     A     A    C     A    A     C     B     B     B  \n",
       "\n",
       "[4 rows x 76 columns]"
      ]
     },
     "execution_count": 4,
     "metadata": {},
     "output_type": "execute_result"
    }
   ],
   "source": [
    "dados.head(4)"
   ]
  },
  {
   "cell_type": "markdown",
   "id": "7775619a-3955-4da7-ac6e-eff6a9091609",
   "metadata": {},
   "source": [
    "#### Quantidade Total de participantes, Total Feminino e Total Masculino "
   ]
  },
  {
   "cell_type": "code",
   "execution_count": 5,
   "id": "9544281b",
   "metadata": {},
   "outputs": [],
   "source": [
    "masc = dados['TP_SEXO'] == 'M'\n",
    "fem = dados['TP_SEXO'] == 'F'\n",
    "m = dados[masc].shape[0]\n",
    "f = dados[fem].shape[0]"
   ]
  },
  {
   "cell_type": "code",
   "execution_count": 6,
   "id": "a5c244aa",
   "metadata": {},
   "outputs": [
    {
     "data": {
      "text/plain": [
       "2120519"
      ]
     },
     "execution_count": 6,
     "metadata": {},
     "output_type": "execute_result"
    }
   ],
   "source": [
    "f"
   ]
  },
  {
   "cell_type": "code",
   "execution_count": 7,
   "id": "94b1f9e3",
   "metadata": {},
   "outputs": [
    {
     "data": {
      "text/plain": [
       "1355586"
      ]
     },
     "execution_count": 7,
     "metadata": {},
     "output_type": "execute_result"
    }
   ],
   "source": [
    "m"
   ]
  },
  {
   "cell_type": "code",
   "execution_count": 8,
   "id": "499b0ccc",
   "metadata": {},
   "outputs": [
    {
     "data": {
      "text/plain": [
       "True"
      ]
     },
     "execution_count": 8,
     "metadata": {},
     "output_type": "execute_result"
    }
   ],
   "source": [
    "f + m == dados.shape[0]"
   ]
  },
  {
   "cell_type": "markdown",
   "id": "1c33c485-a15a-414c-a523-32ca4e6f64a9",
   "metadata": {},
   "source": [
    "#### Separando em um DF as colunas de Sexo e Notas por área do conhecimento"
   ]
  },
  {
   "cell_type": "code",
   "execution_count": 14,
   "id": "7cbc0916",
   "metadata": {},
   "outputs": [],
   "source": [
    "df_sexo_notas = dados.loc[:, ['TP_SEXO', 'NU_NOTA_CN', 'NU_NOTA_CH', 'NU_NOTA_LC', 'NU_NOTA_MT']]"
   ]
  },
  {
   "cell_type": "markdown",
   "id": "5aa4668b-0210-48fb-9049-aa50b4892367",
   "metadata": {
    "tags": []
   },
   "source": [
    "#### Removendo os dados NA"
   ]
  },
  {
   "cell_type": "code",
   "execution_count": 15,
   "id": "bafeff89-6ec7-4f52-9203-b42330625e25",
   "metadata": {},
   "outputs": [
    {
     "data": {
      "text/html": [
       "<div>\n",
       "<style scoped>\n",
       "    .dataframe tbody tr th:only-of-type {\n",
       "        vertical-align: middle;\n",
       "    }\n",
       "\n",
       "    .dataframe tbody tr th {\n",
       "        vertical-align: top;\n",
       "    }\n",
       "\n",
       "    .dataframe thead th {\n",
       "        text-align: right;\n",
       "    }\n",
       "</style>\n",
       "<table border=\"1\" class=\"dataframe\">\n",
       "  <thead>\n",
       "    <tr style=\"text-align: right;\">\n",
       "      <th></th>\n",
       "      <th>TP_SEXO</th>\n",
       "      <th>NU_NOTA_CN</th>\n",
       "      <th>NU_NOTA_CH</th>\n",
       "      <th>NU_NOTA_LC</th>\n",
       "      <th>NU_NOTA_MT</th>\n",
       "    </tr>\n",
       "  </thead>\n",
       "  <tbody>\n",
       "    <tr>\n",
       "      <th>2</th>\n",
       "      <td>F</td>\n",
       "      <td>421.1</td>\n",
       "      <td>546.0</td>\n",
       "      <td>498.8</td>\n",
       "      <td>565.3</td>\n",
       "    </tr>\n",
       "    <tr>\n",
       "      <th>3</th>\n",
       "      <td>M</td>\n",
       "      <td>490.7</td>\n",
       "      <td>388.6</td>\n",
       "      <td>357.8</td>\n",
       "      <td>416.0</td>\n",
       "    </tr>\n",
       "    <tr>\n",
       "      <th>7</th>\n",
       "      <td>F</td>\n",
       "      <td>398.1</td>\n",
       "      <td>427.3</td>\n",
       "      <td>400.2</td>\n",
       "      <td>404.9</td>\n",
       "    </tr>\n",
       "    <tr>\n",
       "      <th>9</th>\n",
       "      <td>F</td>\n",
       "      <td>467.5</td>\n",
       "      <td>461.0</td>\n",
       "      <td>466.7</td>\n",
       "      <td>435.3</td>\n",
       "    </tr>\n",
       "    <tr>\n",
       "      <th>11</th>\n",
       "      <td>F</td>\n",
       "      <td>458.7</td>\n",
       "      <td>539.8</td>\n",
       "      <td>488.2</td>\n",
       "      <td>456.8</td>\n",
       "    </tr>\n",
       "    <tr>\n",
       "      <th>17</th>\n",
       "      <td>F</td>\n",
       "      <td>396.8</td>\n",
       "      <td>528.7</td>\n",
       "      <td>551.4</td>\n",
       "      <td>536.0</td>\n",
       "    </tr>\n",
       "    <tr>\n",
       "      <th>18</th>\n",
       "      <td>F</td>\n",
       "      <td>481.4</td>\n",
       "      <td>603.6</td>\n",
       "      <td>589.0</td>\n",
       "      <td>695.0</td>\n",
       "    </tr>\n",
       "    <tr>\n",
       "      <th>20</th>\n",
       "      <td>F</td>\n",
       "      <td>466.5</td>\n",
       "      <td>476.2</td>\n",
       "      <td>488.3</td>\n",
       "      <td>462.7</td>\n",
       "    </tr>\n",
       "    <tr>\n",
       "      <th>22</th>\n",
       "      <td>F</td>\n",
       "      <td>493.8</td>\n",
       "      <td>498.2</td>\n",
       "      <td>527.0</td>\n",
       "      <td>343.0</td>\n",
       "    </tr>\n",
       "    <tr>\n",
       "      <th>23</th>\n",
       "      <td>M</td>\n",
       "      <td>476.0</td>\n",
       "      <td>559.2</td>\n",
       "      <td>607.3</td>\n",
       "      <td>625.4</td>\n",
       "    </tr>\n",
       "    <tr>\n",
       "      <th>25</th>\n",
       "      <td>M</td>\n",
       "      <td>386.5</td>\n",
       "      <td>458.5</td>\n",
       "      <td>479.7</td>\n",
       "      <td>383.1</td>\n",
       "    </tr>\n",
       "    <tr>\n",
       "      <th>27</th>\n",
       "      <td>M</td>\n",
       "      <td>414.6</td>\n",
       "      <td>518.2</td>\n",
       "      <td>596.5</td>\n",
       "      <td>573.4</td>\n",
       "    </tr>\n",
       "    <tr>\n",
       "      <th>29</th>\n",
       "      <td>F</td>\n",
       "      <td>437.0</td>\n",
       "      <td>505.2</td>\n",
       "      <td>438.6</td>\n",
       "      <td>615.3</td>\n",
       "    </tr>\n",
       "    <tr>\n",
       "      <th>30</th>\n",
       "      <td>F</td>\n",
       "      <td>576.5</td>\n",
       "      <td>590.6</td>\n",
       "      <td>601.4</td>\n",
       "      <td>744.6</td>\n",
       "    </tr>\n",
       "    <tr>\n",
       "      <th>31</th>\n",
       "      <td>M</td>\n",
       "      <td>385.5</td>\n",
       "      <td>415.9</td>\n",
       "      <td>415.6</td>\n",
       "      <td>352.4</td>\n",
       "    </tr>\n",
       "  </tbody>\n",
       "</table>\n",
       "</div>"
      ],
      "text/plain": [
       "   TP_SEXO  NU_NOTA_CN  NU_NOTA_CH  NU_NOTA_LC  NU_NOTA_MT\n",
       "2        F       421.1       546.0       498.8       565.3\n",
       "3        M       490.7       388.6       357.8       416.0\n",
       "7        F       398.1       427.3       400.2       404.9\n",
       "9        F       467.5       461.0       466.7       435.3\n",
       "11       F       458.7       539.8       488.2       456.8\n",
       "17       F       396.8       528.7       551.4       536.0\n",
       "18       F       481.4       603.6       589.0       695.0\n",
       "20       F       466.5       476.2       488.3       462.7\n",
       "22       F       493.8       498.2       527.0       343.0\n",
       "23       M       476.0       559.2       607.3       625.4\n",
       "25       M       386.5       458.5       479.7       383.1\n",
       "27       M       414.6       518.2       596.5       573.4\n",
       "29       F       437.0       505.2       438.6       615.3\n",
       "30       F       576.5       590.6       601.4       744.6\n",
       "31       M       385.5       415.9       415.6       352.4"
      ]
     },
     "execution_count": 15,
     "metadata": {},
     "output_type": "execute_result"
    }
   ],
   "source": [
    "df_sexo_notas = df_sexo_notas.dropna()\n",
    "df_sexo_notas.head(15)"
   ]
  },
  {
   "cell_type": "markdown",
   "id": "3a92fe11-7386-438d-98bb-6c53c0b29d60",
   "metadata": {},
   "source": [
    "### Total de Faltantes"
   ]
  },
  {
   "cell_type": "code",
   "execution_count": 18,
   "id": "c38f1714-e2ed-4e92-95f9-48951a12aa36",
   "metadata": {},
   "outputs": [
    {
     "data": {
      "text/plain": [
       "1131282"
      ]
     },
     "execution_count": 18,
     "metadata": {},
     "output_type": "execute_result"
    }
   ],
   "source": [
    "total_faltantes = dados.shape[0] - df_sexo_notas.shape[0]\n",
    "total_faltantes"
   ]
  },
  {
   "cell_type": "markdown",
   "id": "170a4519-585e-442f-995f-35a96ad7bc76",
   "metadata": {},
   "source": [
    "#### Faltantes em Porcentagem"
   ]
  },
  {
   "cell_type": "code",
   "execution_count": 20,
   "id": "e1f34a32-b96d-48cb-a075-33332650a47e",
   "metadata": {},
   "outputs": [
    {
     "data": {
      "text/plain": [
       "32.544529005884456"
      ]
     },
     "execution_count": 20,
     "metadata": {},
     "output_type": "execute_result"
    }
   ],
   "source": [
    "total_faltantes_porcentagem = (total_faltantes / dados.shape[0]) * 100\n",
    "total_faltantes_porcentagem"
   ]
  },
  {
   "cell_type": "markdown",
   "id": "28ca1330-15a3-4e2a-beaa-9b761e373b38",
   "metadata": {},
   "source": [
    "##### Média notas separadas por sexo"
   ]
  },
  {
   "cell_type": "code",
   "execution_count": 40,
   "id": "3a9369ee-d612-401a-ab70-7e98f261c521",
   "metadata": {},
   "outputs": [
    {
     "data": {
      "text/html": [
       "<div>\n",
       "<style scoped>\n",
       "    .dataframe tbody tr th:only-of-type {\n",
       "        vertical-align: middle;\n",
       "    }\n",
       "\n",
       "    .dataframe tbody tr th {\n",
       "        vertical-align: top;\n",
       "    }\n",
       "\n",
       "    .dataframe thead th {\n",
       "        text-align: right;\n",
       "    }\n",
       "</style>\n",
       "<table border=\"1\" class=\"dataframe\">\n",
       "  <thead>\n",
       "    <tr style=\"text-align: right;\">\n",
       "      <th></th>\n",
       "      <th>NU_NOTA_CN</th>\n",
       "      <th>NU_NOTA_CH</th>\n",
       "      <th>NU_NOTA_LC</th>\n",
       "      <th>NU_NOTA_MT</th>\n",
       "    </tr>\n",
       "    <tr>\n",
       "      <th>TP_SEXO</th>\n",
       "      <th></th>\n",
       "      <th></th>\n",
       "      <th></th>\n",
       "      <th></th>\n",
       "    </tr>\n",
       "  </thead>\n",
       "  <tbody>\n",
       "    <tr>\n",
       "      <th>F</th>\n",
       "      <td>488.478663</td>\n",
       "      <td>525.790145</td>\n",
       "      <td>519.092356</td>\n",
       "      <td>526.702268</td>\n",
       "    </tr>\n",
       "    <tr>\n",
       "      <th>M</th>\n",
       "      <td>507.941966</td>\n",
       "      <td>536.578920</td>\n",
       "      <td>521.117842</td>\n",
       "      <td>567.778466</td>\n",
       "    </tr>\n",
       "  </tbody>\n",
       "</table>\n",
       "</div>"
      ],
      "text/plain": [
       "         NU_NOTA_CN  NU_NOTA_CH  NU_NOTA_LC  NU_NOTA_MT\n",
       "TP_SEXO                                                \n",
       "F        488.478663  525.790145  519.092356  526.702268\n",
       "M        507.941966  536.578920  521.117842  567.778466"
      ]
     },
     "execution_count": 40,
     "metadata": {},
     "output_type": "execute_result"
    }
   ],
   "source": [
    "media_por_materia_sexo = df_sexo_notas.groupby('TP_SEXO').mean()\n",
    "media_por_materia_sexo"
   ]
  },
  {
   "cell_type": "code",
   "execution_count": null,
   "id": "74a1b3b8-581d-4350-be5f-a748b3d42508",
   "metadata": {},
   "outputs": [],
   "source": [
    "media_por_materia_sexo = df_sexo_notas.groupby('TP_SEXO').mean()\n",
    "media_por_materia_sexo"
   ]
  }
 ],
 "metadata": {
  "kernelspec": {
   "display_name": "Python 3 (ipykernel)",
   "language": "python",
   "name": "python3"
  },
  "language_info": {
   "codemirror_mode": {
    "name": "ipython",
    "version": 3
   },
   "file_extension": ".py",
   "mimetype": "text/x-python",
   "name": "python",
   "nbconvert_exporter": "python",
   "pygments_lexer": "ipython3",
   "version": "3.9.13"
  }
 },
 "nbformat": 4,
 "nbformat_minor": 5
}
